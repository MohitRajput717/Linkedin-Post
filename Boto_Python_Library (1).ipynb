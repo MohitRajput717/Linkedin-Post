{
 "cells": [
  {
   "cell_type": "code",
   "execution_count": null,
   "id": "fb3e788c",
   "metadata": {},
   "outputs": [],
   "source": [
    "import boto3\n",
    "import pandas as pd\n",
    "import datetime\n",
    "import io"
   ]
  },
  {
   "cell_type": "code",
   "execution_count": null,
   "id": "15ef042b",
   "metadata": {},
   "outputs": [],
   "source": [
    "Report_date =datetime.datetime.today()- datetime.timedelta(days =1)\n",
    "Report_date1 = Report_date - datetime.timedelta(days =7)\n",
    "print(Report_date)\n",
    "print(Report_date1)"
   ]
  },
  {
   "cell_type": "code",
   "execution_count": null,
   "id": "b09c1be4",
   "metadata": {},
   "outputs": [],
   "source": [
    "s3 = boto3.client('s3')"
   ]
  },
  {
   "cell_type": "code",
   "execution_count": null,
   "id": "993c2ee9",
   "metadata": {},
   "outputs": [],
   "source": [
    "s3c = boto3.client(\n",
    "       service_name='s3',\n",
    "        region_name ='ap-south-1',\n",
    "        aws_access_key_id ='key1',\n",
    "        aws_secret_access_key ='secret_key1'\n",
    "    )\n"
   ]
  },
  {
   "cell_type": "code",
   "execution_count": null,
   "id": "7a76b4a2",
   "metadata": {},
   "outputs": [],
   "source": [
    "for bucket in s3.buckets.all():\n",
    "    print(bucket.name)\n"
   ]
  },
  {
   "cell_type": "code",
   "execution_count": null,
   "id": "25f9a959",
   "metadata": {},
   "outputs": [],
   "source": [
    "for bucket in s3.buckets.all():\n",
    "    bucket_name = bucket.name\n",
    "    # Define the key name you want to associate with each bucket\n",
    "    key_name = f\"{bucket_name}_key\"\n",
    "    print(f\"Bucket: {bucket_name}, Key Name: {key_name}\")"
   ]
  },
  {
   "cell_type": "code",
   "execution_count": null,
   "id": "13fd4ad3",
   "metadata": {},
   "outputs": [],
   "source": [
    "obj = s3c.get_object(Bucket= 'bucket1' , Key = 'key1/'+Report_date.strftime('%Y-%m-%d')+'.csv')\n",
    "df = pd.read_csv(io.BytesIO(obj['Body'].read()), encoding='utf8')\n",
    "df.head()"
   ]
  },
  {
   "cell_type": "code",
   "execution_count": null,
   "id": "06800eb6",
   "metadata": {},
   "outputs": [],
   "source": [
    "df.columns"
   ]
  },
  {
   "cell_type": "code",
   "execution_count": null,
   "id": "e96bddc3",
   "metadata": {},
   "outputs": [],
   "source": []
  },
  {
   "cell_type": "code",
   "execution_count": null,
   "id": "3d6f45aa",
   "metadata": {},
   "outputs": [],
   "source": []
  },
  {
   "cell_type": "code",
   "execution_count": null,
   "id": "c074a00c",
   "metadata": {},
   "outputs": [],
   "source": []
  }
 ],
 "metadata": {
  "kernelspec": {
   "display_name": "Python 3 (ipykernel)",
   "language": "python",
   "name": "python3"
  },
  "language_info": {
   "codemirror_mode": {
    "name": "ipython",
    "version": 3
   },
   "file_extension": ".py",
   "mimetype": "text/x-python",
   "name": "python",
   "nbconvert_exporter": "python",
   "pygments_lexer": "ipython3",
   "version": "3.9.6"
  }
 },
 "nbformat": 4,
 "nbformat_minor": 5
}
