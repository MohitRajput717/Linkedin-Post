{
 "cells": [
  {
   "cell_type": "code",
   "execution_count": null,
   "id": "e5a79194",
   "metadata": {},
   "outputs": [],
   "source": [
    "import tkinter as tk\n",
    "import tkinter.filedialog as fd\n",
    "import pandas as pd\n",
    "import numpy as np\n",
    "def choose_files():\n",
    "  \"\"\"Opens a dialog box to allow the user to select multiple files.\"\"\"\n",
    "  root = tk.Tk()\n",
    "  root.withdraw()\n",
    "  filenames = tk.filedialog.askopenfilenames(parent=root)\n",
    "  return filenames\n",
    "\n",
    "def read_parquet_files(filenames):\n",
    "    \"\"\"Reads multiple parquet files into a single Pandas DataFrame.\n",
    "    Args:\n",
    "      filenames: A list of parquet filenames.\n",
    "\n",
    "    Returns:\n",
    "      A Pandas DataFrame containing the data from all of the input CSV files.\n",
    "    \"\"\"\n",
    "    dfs = []\n",
    "    for filename in filenames:\n",
    "        df = pd.read_parquet(filename)\n",
    "        dfs.append(pivot)\n",
    "    \n",
    "    # Concatenate DataFrames\n",
    "    result_df = pd.concat(dfs, ignore_index=True)\n",
    "    \n",
    "    return result_df\n",
    "# Choose the parquet files to read.\n",
    "filenames = choose_files()\n",
    "# Call the function to read and process the CSV files\n",
    "df = read_parquet_files(filenames)\n",
    "\n",
    "# Print the DataFrame and its shape\n",
    "print(df)\n",
    "print(df.shape)"
   ]
  }
 ],
 "metadata": {
  "kernelspec": {
   "display_name": "Python 3 (ipykernel)",
   "language": "python",
   "name": "python3"
  },
  "language_info": {
   "codemirror_mode": {
    "name": "ipython",
    "version": 3
   },
   "file_extension": ".py",
   "mimetype": "text/x-python",
   "name": "python",
   "nbconvert_exporter": "python",
   "pygments_lexer": "ipython3",
   "version": "3.9.6"
  }
 },
 "nbformat": 4,
 "nbformat_minor": 5
}
