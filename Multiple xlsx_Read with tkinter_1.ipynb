{
 "cells": [
  {
   "cell_type": "code",
   "execution_count": null,
   "id": "42a2ef00",
   "metadata": {},
   "outputs": [],
   "source": [
    "import tkinter as tk\n",
    "import tkinter.filedialog as fd\n",
    "import pandas as pd\n",
    "\n",
    "def choose_files():\n",
    "  \"\"\"Opens a dialog box to allow the user to select multiple files.\"\"\"\n",
    "  root = tk.Tk()\n",
    "  root.withdraw()\n",
    "  filenames = tk.filedialog.askopenfilenames(parent=root)\n",
    "  return filenames\n",
    "def read_xlsx_files(filenames):\n",
    "  \"\"\"Reads multiple xlsx files into a single Pandas DataFrame.\n",
    "  Args:\n",
    "    filenames: A list of xlsx filenames.\n",
    "\n",
    "  Returns:\n",
    "    A Pandas DataFrame containing the data from all of the input CSV files.\n",
    "  \"\"\"\n",
    "\n",
    "  dfs = []\n",
    "  for filename in filenames:\n",
    "    df = pd.read_excel(filename)\n",
    "    dfs.append(df)\n",
    "  df = pd.concat(dfs)\n",
    "  return df\n",
    "# Choose the xlsx files to read.\n",
    "filenames = choose_files()\n",
    "# Read the xlsx files into a single Pandas DataFrame.\n",
    "Data2 = read_xlsx_files(filenames)\n",
    "# Print the DataFrame.\n",
    "print(Data2)"
   ]
  },
  {
   "cell_type": "code",
   "execution_count": null,
   "id": "d0a99178",
   "metadata": {},
   "outputs": [],
   "source": []
  }
 ],
 "metadata": {
  "kernelspec": {
   "display_name": "Python 3 (ipykernel)",
   "language": "python",
   "name": "python3"
  },
  "language_info": {
   "codemirror_mode": {
    "name": "ipython",
    "version": 3
   },
   "file_extension": ".py",
   "mimetype": "text/x-python",
   "name": "python",
   "nbconvert_exporter": "python",
   "pygments_lexer": "ipython3",
   "version": "3.9.6"
  }
 },
 "nbformat": 4,
 "nbformat_minor": 5
}
